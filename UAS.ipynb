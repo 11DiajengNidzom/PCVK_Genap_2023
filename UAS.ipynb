{
  "nbformat": 4,
  "nbformat_minor": 0,
  "metadata": {
    "colab": {
      "provenance": [],
      "mount_file_id": "1ZG0T-yuLT-myqhHD2b5uhXz9smD4HuYF",
      "authorship_tag": "ABX9TyOJLKemENbnDjG2updaZ18D",
      "include_colab_link": true
    },
    "kernelspec": {
      "name": "python3",
      "display_name": "Python 3"
    },
    "language_info": {
      "name": "python"
    }
  },
  "cells": [
    {
      "cell_type": "markdown",
      "metadata": {
        "id": "view-in-github",
        "colab_type": "text"
      },
      "source": [
        "<a href=\"https://colab.research.google.com/github/11DiajengNidzom/PCVK_Genap_2023/blob/main/UAS.ipynb\" target=\"_parent\"><img src=\"https://colab.research.google.com/assets/colab-badge.svg\" alt=\"Open In Colab\"/></a>"
      ]
    },
    {
      "cell_type": "code",
      "execution_count": 1,
      "metadata": {
        "id": "DvROMXDOrDc8"
      },
      "outputs": [],
      "source": [
        "import os\n",
        "import cv2\n",
        "import numpy as np\n",
        "from sklearn.svm import SVC\n",
        "from sklearn.model_selection import train_test_split\n",
        "import joblib"
      ]
    },
    {
      "cell_type": "code",
      "source": [
        "from google.colab import drive\n",
        "\n",
        "drive.mount('/content/drive') "
      ],
      "metadata": {
        "colab": {
          "base_uri": "https://localhost:8080/"
        },
        "id": "UQ7vgTAerZHi",
        "outputId": "ef1ae8d2-927f-4427-bccb-9a5a301fcdb1"
      },
      "execution_count": 2,
      "outputs": [
        {
          "output_type": "stream",
          "name": "stdout",
          "text": [
            "Drive already mounted at /content/drive; to attempt to forcibly remount, call drive.mount(\"/content/drive\", force_remount=True).\n"
          ]
        }
      ]
    },
    {
      "cell_type": "code",
      "source": [
        "# Fungsi untuk membaca dan memproses gambar\n",
        "def read_and_process_images(directory, label):\n",
        "    data = []\n",
        "    for filename in os.listdir(directory):\n",
        "        if filename.endswith(\".png\"):\n",
        "            filepath = os.path.join(directory, filename)\n",
        "            image = cv2.imread(filepath, cv2.IMREAD_GRAYSCALE)\n",
        "            image = cv2.resize(image, (64, 64))  # Mengubah dimensi gambar menjadi 64x64\n",
        "            data.append((image, label))\n",
        "    return data"
      ],
      "metadata": {
        "id": "70GSfHkWrd4p"
      },
      "execution_count": 3,
      "outputs": []
    },
    {
      "cell_type": "code",
      "source": [
        "# Menentukan direktori gambar\n",
        "data_dir = '/content/drive/MyDrive/PCVK/2D Geometry Images' "
      ],
      "metadata": {
        "id": "q92id3SyrkqI"
      },
      "execution_count": 4,
      "outputs": []
    },
    {
      "cell_type": "code",
      "source": [
        "# Membaca dan memproses gambar lingkaran\n",
        "lingkaran_dir = os.path.join(data_dir, '/content/drive/MyDrive/PCVK/2D Geometry Images/lingkaran')\n",
        "lingkaran_data = read_and_process_images(lingkaran_dir, 0)\n",
        "\n",
        "# Membaca dan memproses gambar heptagon\n",
        "heptagon_dir = os.path.join(data_dir, '/content/drive/MyDrive/PCVK/2D Geometry Images/heptagon')\n",
        "heptagon_data = read_and_process_images(heptagon_dir, 1)\n",
        "\n",
        "# Membaca dan memproses gambar segitiga\n",
        "segitiga_dir = os.path.join(data_dir, '/content/drive/MyDrive/PCVK/2D Geometry Images/segitiga')\n",
        "segitiga_data = read_and_process_images(segitiga_dir, 2)"
      ],
      "metadata": {
        "id": "Nc5Ny2q1rd-B"
      },
      "execution_count": 8,
      "outputs": []
    },
    {
      "cell_type": "code",
      "source": [
        "# Menggabungkan data dari semua bentuk\n",
        "data = lingkaran_data + heptagon_data + segitiga_data"
      ],
      "metadata": {
        "id": "zx65CraJuRu1"
      },
      "execution_count": 9,
      "outputs": []
    },
    {
      "cell_type": "code",
      "source": [
        "# Memisahkan fitur (X) dan label (y)\n",
        "X = np.array([item[0] for item in data])\n",
        "y = np.array([item[1] for item in data])"
      ],
      "metadata": {
        "id": "UXv004L-uS1v"
      },
      "execution_count": 10,
      "outputs": []
    },
    {
      "cell_type": "code",
      "source": [
        "# Membagi data menjadi data latih dan data uji\n",
        "X_train, X_test, y_train, y_test = train_test_split(X, y, test_size=0.2, random_state=42)"
      ],
      "metadata": {
        "id": "hcjfSR-TuYUF"
      },
      "execution_count": 11,
      "outputs": []
    },
    {
      "cell_type": "code",
      "source": [
        "# Melatih model SVM\n",
        "model = SVC(kernel='linear')\n",
        "model.fit(X_train.reshape(X_train.shape[0], -1), y_train)\n",
        "model_path = \"/content/drive/MyDrive/PCVK/2D Geometry Images/model.pkl\"\n",
        "joblib.dump(model, model_path)"
      ],
      "metadata": {
        "colab": {
          "base_uri": "https://localhost:8080/"
        },
        "id": "L8w_gitCubyk",
        "outputId": "6c251a39-5bd6-45b7-c888-84187f72f91d"
      },
      "execution_count": 12,
      "outputs": [
        {
          "output_type": "execute_result",
          "data": {
            "text/plain": [
              "['/content/drive/MyDrive/PCVK/2D Geometry Images/model.pkl']"
            ]
          },
          "metadata": {},
          "execution_count": 12
        }
      ]
    },
    {
      "cell_type": "code",
      "source": [
        "# Mengevaluasi model pada data uji\n",
        "accuracy = model.score(X_test.reshape(X_test.shape[0], -1), y_test)\n",
        "print(\"Akurasi model:\", accuracy)"
      ],
      "metadata": {
        "colab": {
          "base_uri": "https://localhost:8080/"
        },
        "id": "nTBzfdSmufMs",
        "outputId": "b7f113a3-c172-4c4a-f9db-d13295a2b96c"
      },
      "execution_count": 13,
      "outputs": [
        {
          "output_type": "stream",
          "name": "stdout",
          "text": [
            "Akurasi model: 0.3333333333333333\n"
          ]
        }
      ]
    },
    {
      "cell_type": "code",
      "source": [
        "# Fungsi untuk membaca dan memproses gambar\n",
        "def read_and_process_image(filepath):\n",
        "    image = cv2.imread(filepath, cv2.IMREAD_GRAYSCALE)\n",
        "    image = cv2.resize(image, (64, 64))  # Mengubah dimensi gambar menjadi 64x64\n",
        "    return image"
      ],
      "metadata": {
        "id": "lA3q9ADKufbt"
      },
      "execution_count": 14,
      "outputs": []
    },
    {
      "cell_type": "code",
      "source": [
        "# Mendefinisikan label bentuk\n",
        "labels = [\"Lingkaran\", \"Heptagon\", \"Segitiga\"]"
      ],
      "metadata": {
        "id": "hIhNP6FwumPW"
      },
      "execution_count": 15,
      "outputs": []
    },
    {
      "cell_type": "code",
      "source": [
        "# Memuat model SVM yang telah dilatih\n",
        "model_path = \"/content/drive/MyDrive/PCVK/2D Geometry Images/model.pkl\"\n",
        "model = joblib.load(model_path)"
      ],
      "metadata": {
        "id": "nlVasU9KumR-"
      },
      "execution_count": 16,
      "outputs": []
    },
    {
      "cell_type": "code",
      "source": [
        "# Mengambil gambar dari Google Drive\n",
        "# lingkaran\n",
        "image_path = \"/content/drive/MyDrive/PCVK/2D Geometry Images/heptagon/Heptagon_0eb856c2-2a91-11ea-8123-8363a7ec19e6.png\""
      ],
      "metadata": {
        "id": "ntPlF3NPumUN"
      },
      "execution_count": 22,
      "outputs": []
    },
    {
      "cell_type": "code",
      "source": [
        "# Membaca dan memproses gambar\n",
        "image = read_and_process_image(image_path)"
      ],
      "metadata": {
        "id": "VC8qHM6PumWd"
      },
      "execution_count": 23,
      "outputs": []
    },
    {
      "cell_type": "code",
      "source": [
        "# Melakukan prediksi menggunakan model\n",
        "prediction = model.predict(image.reshape(1, -1))"
      ],
      "metadata": {
        "id": "0f56FlqtuyRY"
      },
      "execution_count": 24,
      "outputs": []
    },
    {
      "cell_type": "code",
      "source": [
        "# Menampilkan hasil prediksi\n",
        "predicted_label = labels[prediction[0]]\n",
        "print(\"Bentuk gambar:\", predicted_label)"
      ],
      "metadata": {
        "colab": {
          "base_uri": "https://localhost:8080/"
        },
        "id": "rtj6lVqEuyUc",
        "outputId": "3d3969a3-38b9-4017-c881-0c0fd21c74d6"
      },
      "execution_count": 25,
      "outputs": [
        {
          "output_type": "stream",
          "name": "stdout",
          "text": [
            "Bentuk gambar: Heptagon\n"
          ]
        }
      ]
    }
  ]
}