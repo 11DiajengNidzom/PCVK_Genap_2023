{
  "nbformat": 4,
  "nbformat_minor": 0,
  "metadata": {
    "colab": {
      "provenance": [],
      "mount_file_id": "https://github.com/11DiajengNidzom/PCVK_Genap_2023/blob/main/Week10.ipynb",
      "authorship_tag": "ABX9TyNry7XtdiBGY6vkgpk81PPG",
      "include_colab_link": true
    },
    "kernelspec": {
      "name": "python3",
      "display_name": "Python 3"
    },
    "language_info": {
      "name": "python"
    }
  },
  "cells": [
    {
      "cell_type": "markdown",
      "metadata": {
        "id": "view-in-github",
        "colab_type": "text"
      },
      "source": [
        "<a href=\"https://colab.research.google.com/github/11DiajengNidzom/PCVK_Genap_2023/blob/main/Week10.ipynb\" target=\"_parent\"><img src=\"https://colab.research.google.com/assets/colab-badge.svg\" alt=\"Open In Colab\"/></a>"
      ]
    },
    {
      "cell_type": "code",
      "execution_count": 2,
      "metadata": {
        "id": "ZD6OiinSFx1M",
        "outputId": "4fe7249d-17ce-4eb2-af80-551217e14aa5",
        "colab": {
          "base_uri": "https://localhost:8080/"
        }
      },
      "outputs": [
        {
          "output_type": "stream",
          "name": "stdout",
          "text": [
            "Drive already mounted at /content/drive; to attempt to forcibly remount, call drive.mount(\"/content/drive\", force_remount=True).\n"
          ]
        }
      ],
      "source": [
        "from google.colab import drive\n",
        "drive.mount('/content/drive')"
      ]
    },
    {
      "cell_type": "markdown",
      "source": [
        "**Import Library**"
      ],
      "metadata": {
        "id": "L6tREzbqJKq0"
      }
    },
    {
      "cell_type": "code",
      "source": [
        "# Import Library\n",
        "import cv2 as cv\n",
        "import numpy as np\n",
        "from matplotlib import pyplot as plt\n",
        "from google.colab.patches import cv2_imshow"
      ],
      "metadata": {
        "id": "Rr7ACmFOJCqo"
      },
      "execution_count": 3,
      "outputs": []
    },
    {
      "cell_type": "markdown",
      "source": [
        "**Tugas No.3**"
      ],
      "metadata": {
        "id": "sCBb3LO5JPGx"
      }
    },
    {
      "cell_type": "code",
      "source": [],
      "metadata": {
        "id": "1BrdBkWUJIjx"
      },
      "execution_count": null,
      "outputs": []
    }
  ]
}